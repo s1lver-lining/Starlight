{
 "cells": [
  {
   "attachments": {},
   "cell_type": "markdown",
   "metadata": {},
   "source": [
    "# General definitions\n",
    "\n",
    "I recommend using a pypy virtual environment to run angr."
   ]
  },
  {
   "cell_type": "code",
   "execution_count": null,
   "metadata": {},
   "outputs": [],
   "source": [
    "# Imports\n",
    "import angr\n",
    "import claripy\n",
    "import logging\n",
    "logging.getLogger('angr').setLevel('INFO')\n",
    "\n",
    "# Parameters\n",
    "binary_path = './Exploit_Me(if_you_can)'\n",
    "\n",
    "useVeritesting = False # Can speed up the analysis when there is a lot of branching, but causes instability\n",
    "useUnicorn = True      # Unicorn engine is faster than the default engine, but can cause instability\n",
    "\n",
    "# (OPTIONAL) address parameters\n",
    "base_addr = 0x00\n",
    "state_addr = 0x00\n",
    "\n",
    "# (OPTIONAL) input parameters, when the input length is known\n",
    "max_input_len = 0x40\n",
    "\n",
    "# (OPTIONAL) goal address parameters\n",
    "success_addr = 0x00 \n",
    "fail_addr = 0x00\n",
    "\n",
    "# (OPTIONAL) goal strings in stdout\n",
    "success_stdout = [b'Well']\n",
    "fail_stdout = [b'Try again!']\n",
    "\n",
    "\n",
    "def is_successful(state):\n",
    "    stdout_output = state.posix.dumps(1)\n",
    "    return any(s in stdout_output for s in success_stdout)\n",
    "\n",
    "def is_failed(state):\n",
    "    stdout_output = state.posix.dumps(1)\n",
    "    return any(f in stdout_output for f in fail_stdout)\n",
    "\n",
    "\n",
    "# Create the project\n",
    "if base_addr:\n",
    "    p = angr.Project(binary_path, main_opts={'base_addr': base_addr})\n",
    "else:\n",
    "    p = angr.Project(binary_path)\n",
    "\n",
    "# (OPTIONAL) Hook ptrace to return 0. Avoid detection by anti-debugging techniques with ptrace.\n",
    "#p.hook_symbol('ptrace', angr.SIM_PROCEDURES['stubs']['ReturnUnconstrained'](return_value=0))"
   ]
  },
  {
   "attachments": {},
   "cell_type": "markdown",
   "metadata": {},
   "source": [
    "# Create the simulation manager and explore"
   ]
  },
  {
   "cell_type": "code",
   "execution_count": null,
   "metadata": {},
   "outputs": [],
   "source": [
    "emulated_filename = \".m.key\"\n",
    "file_size = 0x14\n",
    "file_content = [claripy.BVS('file_%d' % i, 8) for i in range(file_size)]\n",
    "sf = angr.SimFile(emulated_filename, size=0x14, content=claripy.Concat(*file_content))\n",
    "\n",
    "# Create the simulation manager\n",
    "state = p.factory.entry_state(args=[binary_path], stdin=\"\", add_options=({angr.options.UNICORN} if useUnicorn else {}))\n",
    "state.fs.insert(emulated_filename, sf)\n",
    "\n",
    "# (OPTIONAL) Conditions on the file_content:\n",
    "# for c in file_content:\n",
    "#     state.add_constraints(c >= ord(' '))\n",
    "#     state.add_constraints(c <= ord('~'))\n",
    "\n",
    "sm = p.factory.simulation_manager(state, veritesting=useVeritesting)"
   ]
  },
  {
   "cell_type": "code",
   "execution_count": null,
   "metadata": {},
   "outputs": [],
   "source": [
    "# Explore the binary\n",
    "if success_addr and fail_addr:\n",
    "    sm.explore(find=success_addr, avoid=fail_addr)\n",
    "else:\n",
    "    sm.explore(find=is_successful, avoid=is_failed)\n",
    "sm\n"
   ]
  },
  {
   "attachments": {},
   "cell_type": "markdown",
   "metadata": {},
   "source": [
    "# Parse the results"
   ]
  },
  {
   "cell_type": "code",
   "execution_count": null,
   "metadata": {},
   "outputs": [],
   "source": [
    "if sm.found:\n",
    "    found = sm.found[0]\n",
    "    data, actual_size, new_pos = sm.found[0].fs.get(emulated_filename).read(0, 0x14)\n",
    "    output = sm.found[0].solver.eval(data, cast_to=bytes)\n",
    "    print(\"FOUND\")\n",
    "    print(\"In:\", found.posix.dumps(0))\n",
    "    print(\"Out:\", found.posix.dumps(1))\n",
    "    print(\"File content:\", output)\n",
    "    print()\n",
    "\n",
    "if sm.deadended:\n",
    "    print(\"DEADENDED\")\n",
    "    for deadended in sm.deadended.state:\n",
    "        print(\"In:\", deadended.posix.dumps(0))\n",
    "        print(\"Out:\", deadended.posix.dumps(1))\n",
    "        print()\n",
    "\n",
    "if sm.errored:\n",
    "    print(\"ERRORED\")\n",
    "    for errored in sm.errored.state:\n",
    "        print(sm.errored)\n",
    "        print(\"In:\", errored.posix.dumps(0))\n",
    "        print(\"Out:\", errored.posix.dumps(1))\n",
    "        print()\n",
    "\n",
    "\n",
    "# Save the results to a local file\n",
    "# with open(\"emulated_filename\", 'wb') as f:\n",
    "#     f.write(output)\n"
   ]
  }
 ],
 "metadata": {
  "kernelspec": {
   "display_name": "pypyangr",
   "language": "python",
   "name": "python3"
  },
  "language_info": {
   "codemirror_mode": {
    "name": "ipython",
    "version": 3
   },
   "file_extension": ".py",
   "mimetype": "text/x-python",
   "name": "python",
   "nbconvert_exporter": "python",
   "pygments_lexer": "ipython3",
   "version": "3.9.16"
  },
  "orig_nbformat": 4
 },
 "nbformat": 4,
 "nbformat_minor": 2
}
